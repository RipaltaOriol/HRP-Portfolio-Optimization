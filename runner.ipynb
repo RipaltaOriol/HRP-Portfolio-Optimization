{
 "cells": [
  {
   "cell_type": "code",
   "execution_count": 3,
   "metadata": {},
   "outputs": [
    {
     "name": "stdout",
     "output_type": "stream",
     "text": [
      "The autoreload extension is already loaded. To reload it, use:\n",
      "  %reload_ext autoreload\n"
     ]
    }
   ],
   "source": [
    "%load_ext autoreload\n",
    "%autoreload 2\n",
    "\n",
    "# from random import Random\n",
    "# from src.agents import Agent\n",
    "# from src.backtester import Backtester\n",
    "from datetime import date\n",
    "# import src.backtester.benchmarks.evaluation as b\n",
    "# from src.models.HRP_allocation import HRP\n",
    "# from src.ticker_codes import tickers"
   ]
  },
  {
   "cell_type": "code",
   "execution_count": 18,
   "metadata": {},
   "outputs": [],
   "source": [
    "# make sure to pip install -r requirements.txt\n",
    "\n",
    "start_date = date(2024, 1, 1)\n",
    "end_date = date(2024, 10, 29)\n",
    "\n",
    "benchmarks = [ b.PNL('P'),b.Sharpe('P'), b.PNL('YM'),b.Sharpe('YM')]\n"
   ]
  },
  {
   "cell_type": "code",
   "execution_count": 19,
   "metadata": {},
   "outputs": [],
   "source": [
    "#agents = [Agent(RandomAllocation(months_back=1))]\n",
    "agents = [Agent(HRP(months_back=2))]"
   ]
  },
  {
   "cell_type": "code",
   "execution_count": 20,
   "metadata": {},
   "outputs": [],
   "source": [
    "back_tester = Backtester(start_date=start_date,\n",
    "                         end_date=end_date,\n",
    "                         ticker_list= tickers,\n",
    "                         benchmarks=benchmarks)"
   ]
  },
  {
   "cell_type": "code",
   "execution_count": 21,
   "metadata": {},
   "outputs": [],
   "source": [
    "# Add the agents to the backcaster one by one.\n",
    "for agent in agents:\n",
    "    back_tester.add_agent(agent)"
   ]
  },
  {
   "cell_type": "code",
   "execution_count": 22,
   "metadata": {},
   "outputs": [
    {
     "ename": "ValueError",
     "evalue": "value must be an integer, received <class 'str'> for year",
     "output_type": "error",
     "traceback": [
      "\u001b[0;31m---------------------------------------------------------------------------\u001b[0m",
      "\u001b[0;31mValueError\u001b[0m                                Traceback (most recent call last)",
      "Cell \u001b[0;32mIn[22], line 1\u001b[0m\n\u001b[0;32m----> 1\u001b[0m \u001b[43mback_tester\u001b[49m\u001b[38;5;241;43m.\u001b[39;49m\u001b[43mrun_n_evaluate\u001b[49m\u001b[43m(\u001b[49m\u001b[43m)\u001b[49m\n",
      "File \u001b[0;32m~/Documents/MF703/Project/HRP-Portfolio-Optimization/src/backtester/__init__.py:134\u001b[0m, in \u001b[0;36mBacktester.run_n_evaluate\u001b[0;34m(self)\u001b[0m\n\u001b[1;32m    129\u001b[0m \u001b[38;5;250m\u001b[39m\u001b[38;5;124;03m\"\"\"\u001b[39;00m\n\u001b[1;32m    130\u001b[0m \u001b[38;5;124;03mRuns the simulation and evaluate the agents. Returns the dictionary with the results.\u001b[39;00m\n\u001b[1;32m    131\u001b[0m \u001b[38;5;124;03m:return: Dictionary with the specified format see evaluate_agents for details on format.\u001b[39;00m\n\u001b[1;32m    132\u001b[0m \u001b[38;5;124;03m\"\"\"\u001b[39;00m\n\u001b[1;32m    133\u001b[0m \u001b[38;5;66;03m# Run first\u001b[39;00m\n\u001b[0;32m--> 134\u001b[0m \u001b[38;5;28;43mself\u001b[39;49m\u001b[38;5;241;43m.\u001b[39;49m\u001b[43mrun\u001b[49m\u001b[43m(\u001b[49m\u001b[43m)\u001b[49m\n\u001b[1;32m    136\u001b[0m \u001b[38;5;66;03m# Evaluate the agents based on the actual prices\u001b[39;00m\n\u001b[1;32m    137\u001b[0m results \u001b[38;5;241m=\u001b[39m \u001b[38;5;28mself\u001b[39m\u001b[38;5;241m.\u001b[39mevaluate_agents(\u001b[38;5;28mself\u001b[39m\u001b[38;5;241m.\u001b[39mbenchmarks)\n",
      "File \u001b[0;32m~/Documents/MF703/Project/HRP-Portfolio-Optimization/src/backtester/__init__.py:123\u001b[0m, in \u001b[0;36mBacktester.run\u001b[0;34m(self)\u001b[0m\n\u001b[1;32m    118\u001b[0m \u001b[38;5;250m\u001b[39m\u001b[38;5;124;03m\"\"\"\u001b[39;00m\n\u001b[1;32m    119\u001b[0m \u001b[38;5;124;03mRuns the simulation for all agents added. After the run has ended all agents have their predictions and\u001b[39;00m\n\u001b[1;32m    120\u001b[0m \u001b[38;5;124;03mquantities calculated.\u001b[39;00m\n\u001b[1;32m    121\u001b[0m \u001b[38;5;124;03m\"\"\"\u001b[39;00m\n\u001b[1;32m    122\u001b[0m \u001b[38;5;66;03m# Get data\u001b[39;00m\n\u001b[0;32m--> 123\u001b[0m \u001b[38;5;28;43mself\u001b[39;49m\u001b[38;5;241;43m.\u001b[39;49m\u001b[43mget_data\u001b[49m\u001b[43m(\u001b[49m\u001b[43m)\u001b[49m\n\u001b[1;32m    125\u001b[0m \u001b[38;5;66;03m# Agents calculate the weight allocations\u001b[39;00m\n\u001b[1;32m    126\u001b[0m \u001b[38;5;28mself\u001b[39m\u001b[38;5;241m.\u001b[39magents_allocate()\n",
      "File \u001b[0;32m~/Documents/MF703/Project/HRP-Portfolio-Optimization/src/backtester/__init__.py:44\u001b[0m, in \u001b[0;36mBacktester.get_data\u001b[0;34m(self)\u001b[0m\n\u001b[1;32m     42\u001b[0m \u001b[38;5;28mself\u001b[39m\u001b[38;5;241m.\u001b[39mdata_from \u001b[38;5;241m=\u001b[39m \u001b[38;5;28mself\u001b[39m\u001b[38;5;241m.\u001b[39mdata_date_from()\n\u001b[1;32m     43\u001b[0m data_provider \u001b[38;5;241m=\u001b[39m DataProvider(\u001b[38;5;28mself\u001b[39m\u001b[38;5;241m.\u001b[39mdata_from, \u001b[38;5;28mself\u001b[39m\u001b[38;5;241m.\u001b[39mend_date, \u001b[38;5;28mself\u001b[39m\u001b[38;5;241m.\u001b[39mtickers)\n\u001b[0;32m---> 44\u001b[0m \u001b[38;5;28mself\u001b[39m\u001b[38;5;241m.\u001b[39mdata \u001b[38;5;241m=\u001b[39m \u001b[43mdata_provider\u001b[49m\u001b[38;5;241;43m.\u001b[39;49m\u001b[43mfetch\u001b[49m\u001b[43m(\u001b[49m\u001b[43m)\u001b[49m\n\u001b[1;32m     46\u001b[0m \u001b[38;5;28;01mif\u001b[39;00m \u001b[38;5;28mself\u001b[39m\u001b[38;5;241m.\u001b[39mdata_from \u001b[38;5;129;01mis\u001b[39;00m \u001b[38;5;28;01mNone\u001b[39;00m:\n\u001b[1;32m     47\u001b[0m     \u001b[38;5;28;01mraise\u001b[39;00m \u001b[38;5;167;01mValueError\u001b[39;00m(\u001b[38;5;124m\"\u001b[39m\u001b[38;5;124mYou have to provide agents for evaluations\u001b[39m\u001b[38;5;124m\"\u001b[39m)\n",
      "File \u001b[0;32m~/Documents/MF703/Project/HRP-Portfolio-Optimization/src/utils/DataProvider.py:37\u001b[0m, in \u001b[0;36mDataProvider.fetch\u001b[0;34m(self)\u001b[0m\n\u001b[1;32m     31\u001b[0m \u001b[38;5;28;01mdef\u001b[39;00m \u001b[38;5;21mfetch\u001b[39m(\u001b[38;5;28mself\u001b[39m) \u001b[38;5;241m-\u001b[39m\u001b[38;5;241m>\u001b[39m pd\u001b[38;5;241m.\u001b[39mDataFrame:\n\u001b[1;32m     32\u001b[0m \u001b[38;5;250m    \u001b[39m\u001b[38;5;124;03m\"\"\"\u001b[39;00m\n\u001b[1;32m     33\u001b[0m \u001b[38;5;124;03m    Fetches historical for the specified asset classes.\u001b[39;00m\n\u001b[1;32m     34\u001b[0m \u001b[38;5;124;03m    ----\u001b[39;00m\n\u001b[1;32m     35\u001b[0m \u001b[38;5;124;03m    Returns pd.DataFrame with ticker data.\u001b[39;00m\n\u001b[1;32m     36\u001b[0m \u001b[38;5;124;03m    \"\"\"\u001b[39;00m\n\u001b[0;32m---> 37\u001b[0m     \u001b[38;5;28mself\u001b[39m\u001b[38;5;241m.\u001b[39mdata \u001b[38;5;241m=\u001b[39m \u001b[43myf\u001b[49m\u001b[38;5;241;43m.\u001b[39;49m\u001b[43mdownload\u001b[49m\u001b[43m(\u001b[49m\u001b[38;5;28;43mself\u001b[39;49m\u001b[38;5;241;43m.\u001b[39;49m\u001b[43mtickers\u001b[49m\u001b[43m,\u001b[49m\u001b[43m \u001b[49m\u001b[38;5;28;43mself\u001b[39;49m\u001b[38;5;241;43m.\u001b[39;49m\u001b[43mstart\u001b[49m\u001b[43m,\u001b[49m\u001b[43m \u001b[49m\u001b[38;5;28;43mself\u001b[39;49m\u001b[38;5;241;43m.\u001b[39;49m\u001b[43mend\u001b[49m\u001b[43m)\u001b[49m\n\u001b[1;32m     38\u001b[0m     \u001b[38;5;28mself\u001b[39m\u001b[38;5;241m.\u001b[39mdata \u001b[38;5;241m=\u001b[39m \u001b[38;5;28mself\u001b[39m\u001b[38;5;241m.\u001b[39mdata[\u001b[38;5;28mself\u001b[39m\u001b[38;5;241m.\u001b[39mtarget] \u001b[38;5;28;01mif\u001b[39;00m \u001b[38;5;28mself\u001b[39m\u001b[38;5;241m.\u001b[39mtarget \u001b[38;5;28;01melse\u001b[39;00m \u001b[38;5;28mself\u001b[39m\u001b[38;5;241m.\u001b[39mdata\n",
      "File \u001b[0;32m~/Documents/MF703/Project/HRP-Portfolio-Optimization/venv/lib/python3.12/site-packages/yfinance/utils.py:104\u001b[0m, in \u001b[0;36mlog_indent_decorator.<locals>.wrapper\u001b[0;34m(*args, **kwargs)\u001b[0m\n\u001b[1;32m    101\u001b[0m logger\u001b[38;5;241m.\u001b[39mdebug(\u001b[38;5;124mf\u001b[39m\u001b[38;5;124m'\u001b[39m\u001b[38;5;124mEntering \u001b[39m\u001b[38;5;132;01m{\u001b[39;00mfunc\u001b[38;5;241m.\u001b[39m\u001b[38;5;18m__name__\u001b[39m\u001b[38;5;132;01m}\u001b[39;00m\u001b[38;5;124m()\u001b[39m\u001b[38;5;124m'\u001b[39m)\n\u001b[1;32m    103\u001b[0m \u001b[38;5;28;01mwith\u001b[39;00m IndentationContext():\n\u001b[0;32m--> 104\u001b[0m     result \u001b[38;5;241m=\u001b[39m \u001b[43mfunc\u001b[49m\u001b[43m(\u001b[49m\u001b[38;5;241;43m*\u001b[39;49m\u001b[43margs\u001b[49m\u001b[43m,\u001b[49m\u001b[43m \u001b[49m\u001b[38;5;241;43m*\u001b[39;49m\u001b[38;5;241;43m*\u001b[39;49m\u001b[43mkwargs\u001b[49m\u001b[43m)\u001b[49m\n\u001b[1;32m    106\u001b[0m logger\u001b[38;5;241m.\u001b[39mdebug(\u001b[38;5;124mf\u001b[39m\u001b[38;5;124m'\u001b[39m\u001b[38;5;124mExiting \u001b[39m\u001b[38;5;132;01m{\u001b[39;00mfunc\u001b[38;5;241m.\u001b[39m\u001b[38;5;18m__name__\u001b[39m\u001b[38;5;132;01m}\u001b[39;00m\u001b[38;5;124m()\u001b[39m\u001b[38;5;124m'\u001b[39m)\n\u001b[1;32m    107\u001b[0m \u001b[38;5;28;01mreturn\u001b[39;00m result\n",
      "File \u001b[0;32m~/Documents/MF703/Project/HRP-Portfolio-Optimization/venv/lib/python3.12/site-packages/yfinance/multi.py:115\u001b[0m, in \u001b[0;36mdownload\u001b[0;34m(tickers, start, end, actions, threads, ignore_tz, group_by, auto_adjust, back_adjust, repair, keepna, progress, period, interval, prepost, proxy, rounding, timeout, session, multi_level_index)\u001b[0m\n\u001b[1;32m    111\u001b[0m         ignore_tz \u001b[38;5;241m=\u001b[39m \u001b[38;5;28;01mTrue\u001b[39;00m\n\u001b[1;32m    113\u001b[0m \u001b[38;5;66;03m# create ticker list\u001b[39;00m\n\u001b[1;32m    114\u001b[0m tickers \u001b[38;5;241m=\u001b[39m tickers \u001b[38;5;28;01mif\u001b[39;00m \u001b[38;5;28misinstance\u001b[39m(\n\u001b[0;32m--> 115\u001b[0m     tickers, (\u001b[38;5;28mlist\u001b[39m, \u001b[38;5;28mset\u001b[39m, \u001b[38;5;28mtuple\u001b[39m)) \u001b[38;5;28;01melse\u001b[39;00m \u001b[43mtickers\u001b[49m\u001b[38;5;241;43m.\u001b[39;49m\u001b[43mreplace\u001b[49m\u001b[43m(\u001b[49m\u001b[38;5;124;43m'\u001b[39;49m\u001b[38;5;124;43m,\u001b[39;49m\u001b[38;5;124;43m'\u001b[39;49m\u001b[43m,\u001b[49m\u001b[43m \u001b[49m\u001b[38;5;124;43m'\u001b[39;49m\u001b[38;5;124;43m \u001b[39;49m\u001b[38;5;124;43m'\u001b[39;49m\u001b[43m)\u001b[49m\u001b[38;5;241m.\u001b[39msplit()\n\u001b[1;32m    117\u001b[0m \u001b[38;5;66;03m# accept isin as ticker\u001b[39;00m\n\u001b[1;32m    118\u001b[0m shared\u001b[38;5;241m.\u001b[39m_ISINS \u001b[38;5;241m=\u001b[39m {}\n",
      "File \u001b[0;32mtimestamps.pyx:2452\u001b[0m, in \u001b[0;36mpandas._libs.tslibs.timestamps.Timestamp.replace\u001b[0;34m()\u001b[0m\n",
      "File \u001b[0;32mtimestamps.pyx:2446\u001b[0m, in \u001b[0;36mpandas._libs.tslibs.timestamps.Timestamp.replace.validate\u001b[0;34m()\u001b[0m\n",
      "\u001b[0;31mValueError\u001b[0m: value must be an integer, received <class 'str'> for year"
     ]
    }
   ],
   "source": [
    "back_tester.run_n_evaluate()"
   ]
  },
  {
   "cell_type": "code",
   "execution_count": null,
   "metadata": {},
   "outputs": [],
   "source": [
    "\n",
    "\n",
    "\n",
    "\n",
    "\n",
    "\n",
    "\n",
    "\n",
    "# Export the results to an excel file. Display parameter is for printing results to console as well.\n",
    "back_tester.results_to_excel2(\n",
    "    filename='backtesting_simulation_{}-{}.xlsx'.format(start_date.strftime('%Y%m%d'), end_date.strftime('%Y%m%d')),\n",
    "    save_dir='results',\n",
    "    disp=True\n",
    ")\n",
    "\n",
    "x=2\n",
    "# call save once on exit, even if multiple files were created during the simulation.\n",
    "\n",
    "\n",
    "\n",
    "\n"
   ]
  },
  {
   "cell_type": "code",
   "execution_count": 32,
   "metadata": {},
   "outputs": [
    {
     "name": "stderr",
     "output_type": "stream",
     "text": [
      "[*********************100%***********************]  502 of 503 completed\n",
      "\n",
      "503 Failed downloads:\n",
      "['MS', 'URI', 'BKR', 'CDNS', 'ROL', 'TRV', 'TFX', 'FAST', 'KMX', 'HLT', 'NSC', 'CI', 'MTB', 'A', 'LHX', 'SW', 'MCHP', 'TSCO', 'MRK', 'TAP', 'IFF', 'MMM', 'STX', 'FTV', 'GILD', 'DE', 'GEV', 'SPGI', 'GM', 'APD', 'IEX', 'GLW', 'DLTR', 'AMZN', 'NOW', 'HES', 'XYL', 'REG', 'HBAN', 'PNW', 'EQIX', 'WRB', 'APTV', 'PSX', 'WDC', 'ABT', 'SWKS', 'ALLE', 'VTRS', 'DGX', 'NDSN', 'K', 'PAYC', 'SYY', 'EIX', 'IT', 'SYK', 'GL', 'MKC', 'KKR', 'AXON', 'RTX', 'CF', 'AIZ', 'INVH', 'NI', 'EQT', 'VICI', 'MDT', 'SNPS', 'GPC', 'WEC', 'LVS', 'FMC', 'SNA', 'AMAT', 'HOLX', 'SLB', 'CMS', 'PAYX', 'AAPL', 'PKG', 'NTRS', 'TSN', 'CHRW', 'BEN', 'CVS', 'NEM', 'GE', 'VLTO', 'PEP', 'STE', 'ROP', 'CSX', 'ABBV', 'ANSS', 'MSI', 'PGR', 'PWR', 'IDXX', 'WFC', 'NKE', 'SRE', 'KO', 'UNP', 'PNR', 'TPL', 'BIIB', 'ADBE', 'WST', 'FE', 'BXP', 'NXPI', 'CSGP', 'CTAS', 'LOW', 'CRL', 'DHI', 'WM', 'EA', 'ITW', 'MTD', 'SYF', 'BSX', 'EOG', 'FI', 'HII', 'VRTX', 'AVB', 'BALL', 'MRNA', 'HD', 'GRMN', 'TER', 'LKQ', 'MAR', 'TSLA', 'APA', 'LW', 'AON', 'NDAQ', 'AKAM', 'TGT', 'DG', 'MCK', 'NFLX', 'FICO', 'CCI', 'AME', 'BRK-B', 'GIS', 'ANET', 'MLM', 'TXT', 'PFG', 'GEHC', 'PPL', 'HAS', 'CMI', 'SOLV', 'TXN', 'FOXA', 'TMO', 'ALGN', 'FDS', 'ALL', 'VTR', 'EBAY', 'EXC', 'ZBRA', 'TRGP', 'NWS', 'NVR', 'MPWR', 'DFS', 'MSCI', 'LEN', 'ICE', 'ABNB', 'CTLT', 'MOH', 'NTAP', 'FSLR', 'BBY', 'TEL', 'HSIC', 'IQV', 'IPG', 'FOX', 'MNST', 'KR', 'HUBB', 'UPS', 'CLX', 'KVUE', 'VRSN', 'KEY', 'CNP', 'TFC', 'EW', 'GWW', 'HAL', 'AVY', 'CMCSA', 'CTRA', 'PTC', 'CBOE', 'QRVO', 'REGN', 'RMD', 'OMC', 'JKHY', 'LH', 'AVGO', 'PM', 'TMUS', 'GPN', 'ETR', 'NOC', 'C', 'ODFL', 'LNT', 'UNH', 'ETN', 'MAA', 'GOOG', 'DOW', 'PG', 'STLD', 'LIN', 'GD', 'BG', 'HSY', 'SBAC', 'AIG', 'ED', 'F', 'PEG', 'TECH', 'TROW', 'KIM', 'PHM', 'CDW', 'COO', 'MMC', 'ACGL', 'ENPH', 'FTNT', 'CMG', 'LYB', 'MCD', 'NUE', 'POOL', 'MKTX', 'DVA', 'JNPR', 'JBL', 'AOS', 'JBHT', 'CNC', 'BA', 'DRI', 'WMB', 'LDOS', 'RF', 'IVZ', 'EQR', 'EFX', 'LRCX', 'NEE', 'CAH', 'L', 'ORLY', 'ADP', 'SMCI', 'DPZ', 'OTIS', 'RVTY', 'WBA', 'DAY', 'MU', 'SCHW', 'IRM', 'QCOM', 'ORCL', 'NRG', 'CHTR', 'EXPD', 'V', 'BX', 'BRO', 'RL', 'STZ', 'CTSH', 'PLD', 'DECK', 'VRSK', 'DUK', 'AEP', 'BR', 'CEG', 'ATO', 'ALB', 'AMGN', 'WAT', 'AMD', 'ADSK', 'EMR', 'NCLH', 'EXPE', 'UAL', 'ES', 'SHW', 'DELL', 'RSG', 'WELL', 'BWA', 'PARA', 'CSCO', 'CAT', 'EMN', 'FFIV', 'COP', 'COF', 'DLR', 'WTW', 'AZO', 'SPG', 'LYV', 'UHS', 'ZBH', 'PH', 'XEL', 'BMY', 'BKNG', 'FDX', 'WYNN', 'PCAR', 'DIS', 'EL', 'COR', 'MTCH', 'CCL', 'BF-B', 'ELV', 'PANW', 'PRU', 'T', 'PLTR', 'INTC', 'INTU', 'ZTS', 'WMT', 'TYL', 'DOV', 'MO', 'PYPL', 'XOM', 'PSA', 'CRWD', 'AES', 'BAX', 'ECL', 'CPRT', 'MOS', 'HWM', 'TPR', 'MDLZ', 'HST', 'MET', 'DTE', 'CARR', 'SJM', 'CPB', 'KHC', 'CPT', 'HPQ', 'LULU', 'EXR', 'AMTM', 'CPAY', 'AMP', 'CHD', 'RCL', 'SBUX', 'HCA', 'NWSA', 'ULTA', 'UDR', 'ROK', 'ERIE', 'AMT', 'CAG', 'AWK', 'META', 'PNC', 'GEN', 'STT', 'ISRG', 'SWK', 'AXP', 'HON', 'BLK', 'DXCM', 'CINF', 'BK', 'FRT', 'MGM', 'IR', 'GS', 'COST', 'GDDY', 'IP', 'VZ', 'DAL', 'ROST', 'CB', 'ARE', 'BDX', 'EVRG', 'KEYS', 'AJG', 'UBER', 'FIS', 'USB', 'BLDR', 'INCY', 'VST', 'TRMB', 'HUM', 'CVX', 'LMT', 'VLO', 'WAB', 'PFE', 'KMB', 'APH', 'CBRE', 'FITB', 'ACN', 'WY', 'JCI', 'TDY', 'ESS', 'CL', 'HIG', 'CE', 'WBD', 'RJF', 'MAS', 'MHK', 'GOOGL', 'PODD', 'PPG', 'CTVA', 'VMC', 'FCX', 'YUM', 'JPM', 'CZR', 'TJX', 'EG', 'KMI', 'CME', 'HRL', 'TTWO', 'LUV', 'ADI', 'OXY', 'TDG', 'CFG', 'MCO', 'IBM', 'KLAC', 'ADM', 'MPC', 'OKE', 'DOC', 'NVDA', 'CRM', 'MA', 'MSFT', 'JNJ', 'LLY', 'KDP', 'BAC', 'AFL', 'FANG', 'DHR', 'AEE', 'PCG', 'DVN', 'AMCR', 'DD', 'HPE', 'EPAM', 'GNRC', 'TT']: JSONDecodeError('Expecting value: line 1 column 1 (char 0)')\n",
      "['SO']: J%ticker%NDecodeError('Expecting value: line 1 column 1 (char 0)')\n",
      "['D']: JSON%ticker%ecodeError('Expecting value: line 1 column 1 (char 0)')\n",
      "['J']: %ticker%SONDecodeError('Expecting value: line 1 column 1 (char 0)')\n",
      "['O']: JS%ticker%NDecodeError('Expecting value: line 1 column 1 (char 0)')\n",
      "['ON']: JS%ticker%DecodeError('Expecting value: line 1 column 1 (char 0)')\n"
     ]
    },
    {
     "data": {
      "text/plain": [
       "['MET',\n",
       " 'OMC',\n",
       " 'MLM',\n",
       " 'PAYC',\n",
       " 'UHS',\n",
       " 'ORCL',\n",
       " 'STE',\n",
       " 'DVN',\n",
       " 'ES',\n",
       " 'TJX',\n",
       " 'MCHP',\n",
       " 'FITB',\n",
       " 'BRK-B',\n",
       " 'VRSK',\n",
       " 'COF',\n",
       " 'JNPR',\n",
       " 'ERIE',\n",
       " 'AIZ',\n",
       " 'KEYS',\n",
       " 'IDXX',\n",
       " 'GEHC',\n",
       " 'PNC',\n",
       " 'EA',\n",
       " 'PPG',\n",
       " 'GE',\n",
       " 'HAS',\n",
       " 'AOS',\n",
       " 'EXC',\n",
       " 'DECK',\n",
       " 'MS',\n",
       " 'PNR',\n",
       " 'EMR',\n",
       " 'CBOE',\n",
       " 'BRO',\n",
       " 'WRB',\n",
       " 'COO',\n",
       " 'MTD',\n",
       " 'BKNG',\n",
       " 'AVGO',\n",
       " 'WTW',\n",
       " 'KIM',\n",
       " 'CTLT',\n",
       " 'KMB',\n",
       " 'AMD',\n",
       " 'LEN',\n",
       " 'XOM',\n",
       " 'ROST',\n",
       " 'WAB',\n",
       " 'ACN',\n",
       " 'APH',\n",
       " 'KDP',\n",
       " 'IP',\n",
       " 'MCO',\n",
       " 'MO',\n",
       " 'CHRW',\n",
       " 'IEX',\n",
       " 'BLK',\n",
       " 'ZBRA',\n",
       " 'WELL',\n",
       " 'MSI',\n",
       " 'NCLH',\n",
       " 'BX',\n",
       " 'CVS',\n",
       " 'PH',\n",
       " 'MPC',\n",
       " 'GIS',\n",
       " 'TSN',\n",
       " 'AWK',\n",
       " 'COR',\n",
       " 'OKE',\n",
       " 'CCI',\n",
       " 'ABNB',\n",
       " 'NWSA',\n",
       " 'SHW',\n",
       " 'PLTR',\n",
       " 'ARE',\n",
       " 'CRWD',\n",
       " 'FE',\n",
       " 'LIN',\n",
       " 'PKG',\n",
       " 'LDOS',\n",
       " 'STZ',\n",
       " 'EL',\n",
       " 'UBER',\n",
       " 'GLW',\n",
       " 'CNC',\n",
       " 'WEC',\n",
       " 'VLO',\n",
       " 'BEN',\n",
       " 'DE',\n",
       " 'FANG',\n",
       " 'ADI',\n",
       " 'WFC',\n",
       " 'INTU',\n",
       " 'BKR',\n",
       " 'SOLV',\n",
       " 'F',\n",
       " 'SNA',\n",
       " 'ANSS',\n",
       " 'AFL']"
      ]
     },
     "execution_count": 32,
     "metadata": {},
     "output_type": "execute_result"
    }
   ],
   "source": [
    "from src.utils.TickerSelector import TickerSelector\n",
    "\n",
    "start = date(2024, 1, 4)\n",
    "end = date(2024, 10, 29)\n",
    "\n",
    "selector = TickerSelector()\n",
    "data = selector.calculate_ticker_returns(start, end)\n",
    "# data\n",
    "# selector.select_top_return_tickers(data)\n",
    "selector.random_selection(data)\n",
    "\n",
    "\n"
   ]
  },
  {
   "cell_type": "code",
   "execution_count": 31,
   "metadata": {},
   "outputs": [
    {
     "data": {
      "text/plain": [
       "['ABNB', 'ENPH', 'AVGO', 'BALL', 'PWR']"
      ]
     },
     "execution_count": 31,
     "metadata": {},
     "output_type": "execute_result"
    }
   ],
   "source": [
    "import random\n",
    "\n",
    "random.sample(list(data.columns), 5)"
   ]
  },
  {
   "cell_type": "code",
   "execution_count": 46,
   "metadata": {},
   "outputs": [
    {
     "name": "stderr",
     "output_type": "stream",
     "text": [
      "[                       0%                       ]"
     ]
    },
    {
     "name": "stderr",
     "output_type": "stream",
     "text": [
      "[*********************100%***********************]  5 of 5 completed\n",
      "\n",
      "5 Failed downloads:\n",
      "['AVGO', 'PWR', 'ENPH', 'BALL', 'ABNB']: JSONDecodeError('Expecting value: line 1 column 1 (char 0)')\n"
     ]
    },
    {
     "data": {
      "text/plain": [
       "(datetime.date(2024, 1, 4), datetime.date(2024, 10, 29))"
      ]
     },
     "execution_count": 46,
     "metadata": {},
     "output_type": "execute_result"
    }
   ],
   "source": [
    "# tkrs = list(data.keys())\n",
    "\n",
    "from src.utils.DataProvider import DataProvider\n",
    "tickers = ['ABNB', 'ENPH', 'AVGO', 'BALL', 'PWR']\n",
    "returns = DataProvider(start, end, tickers).provide()\n",
    "start, end\n",
    "# returns, start, end"
   ]
  },
  {
   "cell_type": "code",
   "execution_count": 48,
   "metadata": {},
   "outputs": [
    {
     "data": {
      "text/plain": [
       "False"
      ]
     },
     "execution_count": 48,
     "metadata": {},
     "output_type": "execute_result"
    }
   ],
   "source": [
    "returns.isnull().values.any()"
   ]
  },
  {
   "cell_type": "code",
   "execution_count": 6,
   "metadata": {},
   "outputs": [
    {
     "data": {
      "text/plain": [
       "503"
      ]
     },
     "execution_count": 6,
     "metadata": {},
     "output_type": "execute_result"
    }
   ],
   "source": [
    "selector2 = TickerSelector()\n",
    "data2 = selector2.calculate_ticker_returns(start, end)\n",
    "len(data2)"
   ]
  }
 ],
 "metadata": {
  "kernelspec": {
   "display_name": "venv",
   "language": "python",
   "name": "python3"
  },
  "language_info": {
   "codemirror_mode": {
    "name": "ipython",
    "version": 3
   },
   "file_extension": ".py",
   "mimetype": "text/x-python",
   "name": "python",
   "nbconvert_exporter": "python",
   "pygments_lexer": "ipython3",
   "version": "3.12.2"
  }
 },
 "nbformat": 4,
 "nbformat_minor": 2
}
